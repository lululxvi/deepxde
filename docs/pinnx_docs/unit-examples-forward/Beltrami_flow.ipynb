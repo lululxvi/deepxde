{
 "cells": [
  {
   "cell_type": "markdown",
   "id": "17296f2332f77ca7",
   "metadata": {},
   "source": [
    "# Three-dimensional unsteady Navier-Stokes Equations\n",
    "\n",
    "\n",
    "\n",
    "## Problem Statement\n",
    "\n",
    "### 1. Momentum Equations\n",
    "\n",
    "The Navier-Stokes equations describe the conservation of momentum in fluid dynamics. For an incompressible fluid, the equation is:\n",
    "\n",
    "$$\n",
    "\\frac{\\partial \\mathbf{u}}{\\partial t} + \\mathbf{u} \\cdot \\nabla \\mathbf{u} = - \\nabla p + \\frac{1}{Re} \\nabla^2 \\mathbf{u}\n",
    "$$\n",
    "\n",
    "Where:\n",
    "- $\\mathbf{u} = (u, v, w)$ is the velocity field,\n",
    "- $p$ is the pressure field,\n",
    "- $\\nabla$ is the gradient operator,\n",
    "- $\\nabla^2$ is the Laplacian operator,\n",
    "- $\\mu$ is the dynamic viscosity.\n",
    "\n",
    "The momentum equations in the code are written for each of the three spatial components (x, y, z). Specifically, the equations correspond to the following:\n",
    "\n",
    "\n",
    "\n",
    "- **$x$-direction momentum equation** (`momentum_x` in the code):\n",
    "\n",
    "$$\n",
    "\\rho\\left[\\frac{\\partial u}{\\partial t}+\\frac{\\partial u}{\\partial x} u+\\frac{\\partial u}{\\partial y} v+\\frac{\\partial u}{\\partial z} w\\right]=-\\frac{\\partial p}{\\partial x}+\\mu\\left(\\frac{\\partial^2 u}{\\partial x^2}+\\frac{\\partial^2 u}{\\partial y^2}+\\frac{\\partial^2 u}{\\partial z^2}\\right)+\\rho g_x\n",
    "$$\n",
    "\n",
    "- **$y$-direction momentum equation** (`momentum_y` in the code):\n",
    "\n",
    "$$\n",
    "\\rho\\left[\\frac{\\partial v}{\\partial t}+\\frac{\\partial v}{\\partial x} u+\\frac{\\partial v}{\\partial y} v+\\frac{\\partial v}{\\partial z} w\\right]=-\\frac{\\partial p}{\\partial y}+\\mu\\left(\\frac{\\partial^2 v}{\\partial x^2}+\\frac{\\partial^2 v}{\\partial y^2}+\\frac{\\partial^2 v}{\\partial z^2}\\right)+\\rho g_y\n",
    "$$\n",
    "\n",
    "- **$z$-direction momentum equation** (`momentum_z` in the code):\n",
    "\n",
    "$$\n",
    "\\rho\\left[\\frac{\\partial w}{\\partial t}+\\frac{\\partial w}{\\partial x} u+\\frac{\\partial w}{\\partial y} v+\\frac{\\partial w}{\\partial z} w\\right]=-\\frac{\\partial p}{\\partial z}+\\mu\\left(\\frac{\\partial^2 w}{\\partial x^2}+\\frac{\\partial^2 w}{\\partial y^2}+\\frac{\\partial^2 w}{\\partial z^2}\\right)+\\rho g_z\n",
    "$$\n",
    "\n",
    "### 2. Continuity Equation\n",
    "\n",
    "The continuity equation represents the conservation of mass, ensuring that the flow is incompressible (i.e., the divergence of the velocity field is zero). The equation is:\n",
    "\n",
    "$$\n",
    "\\nabla \\cdot \\mathbf{u} = 0\n",
    "$$\n",
    "\n",
    "In the code, the continuity equation corresponds to:\n",
    "\n",
    "$$\n",
    "\\frac{\\partial u}{\\partial x} + \\frac{\\partial v}{\\partial y} + \\frac{\\partial w}{\\partial z} = 0\n",
    "$$\n",
    "\n",
    "This guarantees that the volume of the fluid remains constant and the flow is incompressible.\n",
    "\n",
    "### 3. Initial and Boundary Conditions (IC and BC)\n",
    "\n",
    "The function `icbc_cond_func` defines the initial conditions (IC) and boundary conditions (BC) for the velocity and pressure fields.\n",
    "\n",
    "- **Initial velocity fields**:\n",
    "  The velocity components are given as functions of spatial variables $x$, $y$, and $z$, as well as time $t$. Specifically, the velocity components $u$, $v$, and $w$ are defined as:\n",
    "\n",
    "$$\n",
    "u = -a \\left( e^{a x} \\sin(a y + d z) + e^{a z} \\cos(a x + d y) \\right) e^{-d^2 t}\n",
    "$$\n",
    "\n",
    "$$\n",
    "v = -a \\left( e^{a y} \\sin(a z + d x) + e^{a x} \\cos(a y + d z) \\right) e^{-d^2 t}\n",
    "$$\n",
    "\n",
    "$$\n",
    "w = -a \\left( e^{a z} \\sin(a x + d y) + e^{a y} \\cos(a z + d x) \\right) e^{-d^2 t}\n",
    "$$\n",
    "\n",
    "- **Initial pressure field**:\n",
    "  The pressure field $p$ is given by a more complex expression, involving exponentials and trigonometric functions of the spatial variables $x$, $y$, and $z$:\n",
    "\n",
    "$$\n",
    "\\begin{aligned}\n",
    "p(x, y, z, t)= & -\\frac{1}{2} a^2\\left[e^{2 a x}+e^{2 a y}+e^{2 a z}\\right. \\\\\n",
    "& +2 \\sin (a x+d y) \\cos (a z+d x) e^{a(y+z)} \\\\\n",
    "& +2 \\sin (a y+d z) \\cos (a x+d y) e^{a(z+x)} \\\\\n",
    "& \\left.+2 \\sin (a z+d x) \\cos (a y+d z) e^{a(x+y)}\\right] e^{-2 d^2 t}\n",
    "\\end{aligned}\n",
    "$$\n",
    "\n",
    "### 4. Final Formulation: 3D Navier-Stokes Equations\n",
    "\n",
    "The Navier-Stokes equations, based on the code, are as follows:\n",
    "\n",
    "#### Momentum Equation (in three dimensions):\n",
    "\n",
    "$$\n",
    "\\frac{\\partial \\mathbf{u}}{\\partial t} + \\mathbf{u} \\cdot \\nabla \\mathbf{u} = - \\nabla p + \\frac{1}{Re} \\nabla^2 \\mathbf{u}\n",
    "$$\n",
    "\n",
    "Where:\n",
    "- $\\mathbf{u} = (u, v, w)$ is the velocity field,\n",
    "- $p$ is the pressure field,\n",
    "- $Re$ is the Reynolds number,\n",
    "- $\\nabla^2$ is the Laplacian operator.\n",
    "\n",
    "#### Continuity Equation (for incompressibility):\n",
    "\n",
    "$$\n",
    "\\nabla \\cdot \\mathbf{u} = 0\n",
    "$$\n",
    "\n",
    "This ensures that the flow remains incompressible.\n",
    "\n",
    "### Conclusion\n",
    "\n",
    "The Python code essentially implements the 3D Navier-Stokes equations for an incompressible fluid, where the momentum equations are resolved in each spatial direction, and the continuity equation ensures mass conservation. The initial conditions for velocity and pressure are specified, and boundary conditions are likely handled by the methods in `icbc_cond_func`."
   ]
  },
  {
   "cell_type": "markdown",
   "id": "ad99ef67a441b25d",
   "metadata": {},
   "source": [
    "## Dimensional Analysis\n",
    "\n",
    "Summary of Physical Units\n",
    "\n",
    "- **Velocity ($u, v, w$)**: $[u] = [v] = [w] = \\text{m/s}$\n",
    "- **Time ($t$)**: $[t] = \\text{s}$\n",
    "- **Pressure ($p$)**: $[p] = \\text{kg/m} \\cdot \\text{s}^2$\n",
    "- **Reynolds number ($Re$)**: Dimensionless\n",
    "- **Laplacian of velocity ($\\nabla^2 \\mathbf{u}$)**: $\\text{s}^{-2}$\n",
    "- **Density ($\\rho$)**: $\\text{kg/m}^3$\n",
    "- **Dynamic viscosity ($\\mu$)**: $\\text{kg/m} \\cdot \\text{s}$\n",
    "\n",
    "The analysis confirms that the Navier-Stokes equations, including the momentum and continuity equations, are dimensionally consistent and properly describe the physical quantities involved in fluid flow.\n"
   ]
  },
  {
   "cell_type": "markdown",
   "id": "b2ff0e8c04269c5c",
   "metadata": {},
   "source": [
    "## Code Implementation\n",
    "\n",
    "First, we import the necessary libraries for the implementation:"
   ]
  },
  {
   "cell_type": "code",
   "execution_count": 1,
   "id": "9da3a0a3f6e0cfdd",
   "metadata": {
    "ExecuteTime": {
     "end_time": "2024-12-17T13:35:41.570500Z",
     "start_time": "2024-12-17T13:35:39.215212Z"
    }
   },
   "outputs": [],
   "source": [
    "import brainstate as bst\n",
    "import brainunit as u\n",
    "import jax.tree\n",
    "import numpy as np\n",
    "\n",
    "import deepxde.experimental as deepxde\n"
   ]
  },
  {
   "cell_type": "markdown",
   "id": "55d79554e448349a",
   "metadata": {},
   "source": [
    "Define the physical units for the problem:"
   ]
  },
  {
   "cell_type": "code",
   "execution_count": 2,
   "id": "a7d41ee1906c7370",
   "metadata": {
    "ExecuteTime": {
     "end_time": "2024-12-17T13:35:41.578528Z",
     "start_time": "2024-12-17T13:35:41.574897Z"
    }
   },
   "outputs": [],
   "source": [
    "unit_of_space = u.meter\n",
    "unit_of_speed = u.meter / u.second\n",
    "unit_of_t = u.second\n",
    "unit_of_pressure = u.pascal"
   ]
  },
  {
   "cell_type": "markdown",
   "id": "7346e281a5e40f06",
   "metadata": {},
   "source": [
    "Define the spatial and temporal domains for the problem:"
   ]
  },
  {
   "cell_type": "code",
   "execution_count": 3,
   "id": "c1ebb34b6f25d0a8",
   "metadata": {
    "ExecuteTime": {
     "end_time": "2024-12-17T13:35:41.632619Z",
     "start_time": "2024-12-17T13:35:41.629331Z"
    }
   },
   "outputs": [],
   "source": [
    "spatial_domain = deepxde.geometry.Cuboid(xmin=[-1, -1, -1], xmax=[1, 1, 1])\n",
    "temporal_domain = deepxde.geometry.TimeDomain(0, 1)\n",
    "spatio_temporal_domain = deepxde.geometry.GeometryXTime(spatial_domain, temporal_domain)\n",
    "spatio_temporal_domain = spatio_temporal_domain.to_dict_point(\n",
    "    x=unit_of_space,\n",
    "    y=unit_of_space,\n",
    "    z=unit_of_space,\n",
    "    t=unit_of_t,\n",
    ")\n"
   ]
  },
  {
   "cell_type": "markdown",
   "id": "a20e646545ec2cfd",
   "metadata": {},
   "source": [
    "Define the neural network model for the problem:"
   ]
  },
  {
   "cell_type": "code",
   "execution_count": 4,
   "id": "13fd9b17a2ad3161",
   "metadata": {
    "ExecuteTime": {
     "end_time": "2024-12-17T13:35:41.978316Z",
     "start_time": "2024-12-17T13:35:41.638695Z"
    }
   },
   "outputs": [],
   "source": [
    "net = deepxde.nn.Model(\n",
    "    deepxde.nn.DictToArray(x=unit_of_space,\n",
    "                           y=unit_of_space,\n",
    "                           z=unit_of_space,\n",
    "                           t=unit_of_t),\n",
    "    deepxde.nn.FNN([4] + 4 * [50] + [4], \"tanh\", bst.init.KaimingUniform()),\n",
    "    deepxde.nn.ArrayToDict(u_vel=unit_of_speed,\n",
    "                           v_vel=unit_of_speed,\n",
    "                           w_vel=unit_of_speed,\n",
    "                           p=unit_of_pressure),\n",
    ")"
   ]
  },
  {
   "cell_type": "markdown",
   "id": "c49c4dd168704ad2",
   "metadata": {},
   "source": [
    "Define the PDE residual function for the Navier-Stokes equations:"
   ]
  },
  {
   "cell_type": "code",
   "execution_count": 5,
   "id": "ba050fc459ae4389",
   "metadata": {
    "ExecuteTime": {
     "end_time": "2024-12-17T13:35:42.026077Z",
     "start_time": "2024-12-17T13:35:41.988476Z"
    }
   },
   "outputs": [],
   "source": [
    "\n",
    "a = 1\n",
    "d = 1\n",
    "Re = 1\n",
    "rho = 1 * u.kilogram / u.meter ** 3\n",
    "mu = 1 * u.pascal * u.second\n",
    "\n",
    "\n",
    "@bst.compile.jit\n",
    "def pde(x, u):\n",
    "    jacobian = net.jacobian(x)\n",
    "    x_hessian = net.hessian(x, y=['u_vel', 'v_vel', 'w_vel'], xi=['x'], xj=['x'])\n",
    "    y_hessian = net.hessian(x, y=['u_vel', 'v_vel', 'w_vel'], xi=['y'], xj=['y'])\n",
    "    z_hessian = net.hessian(x, y=['u_vel', 'v_vel', 'w_vel'], xi=['z'], xj=['z'])\n",
    "\n",
    "    u_vel, v_vel, w_vel, p = u['u_vel'], u['v_vel'], u['w_vel'], u['p']\n",
    "\n",
    "    du_vel_dx = jacobian['u_vel']['x']\n",
    "    du_vel_dy = jacobian['u_vel']['y']\n",
    "    du_vel_dz = jacobian['u_vel']['z']\n",
    "    du_vel_dt = jacobian['u_vel']['t']\n",
    "    du_vel_dx_dx = x_hessian['u_vel']['x']['x']\n",
    "    du_vel_dy_dy = y_hessian['u_vel']['y']['y']\n",
    "    du_vel_dz_dz = z_hessian['u_vel']['z']['z']\n",
    "\n",
    "    dv_vel_dx = jacobian['v_vel']['x']\n",
    "    dv_vel_dy = jacobian['v_vel']['y']\n",
    "    dv_vel_dz = jacobian['v_vel']['z']\n",
    "    dv_vel_dt = jacobian['v_vel']['t']\n",
    "    dv_vel_dx_dx = x_hessian['v_vel']['x']['x']\n",
    "    dv_vel_dy_dy = y_hessian['v_vel']['y']['y']\n",
    "    dv_vel_dz_dz = z_hessian['v_vel']['z']['z']\n",
    "\n",
    "    dw_vel_dx = jacobian['w_vel']['x']\n",
    "    dw_vel_dy = jacobian['w_vel']['y']\n",
    "    dw_vel_dz = jacobian['w_vel']['z']\n",
    "    dw_vel_dt = jacobian['w_vel']['t']\n",
    "    dw_vel_dx_dx = x_hessian['w_vel']['x']['x']\n",
    "    dw_vel_dy_dy = y_hessian['w_vel']['y']['y']\n",
    "    dw_vel_dz_dz = z_hessian['w_vel']['z']['z']\n",
    "\n",
    "    dp_dx = jacobian['p']['x']\n",
    "    dp_dy = jacobian['p']['y']\n",
    "    dp_dz = jacobian['p']['z']\n",
    "\n",
    "    momentum_x = (\n",
    "        rho * (du_vel_dt + (u_vel * du_vel_dx + v_vel * du_vel_dy + w_vel * du_vel_dz))\n",
    "        + dp_dx - mu * (du_vel_dx_dx + du_vel_dy_dy + du_vel_dz_dz)\n",
    "    )\n",
    "    momentum_y = (\n",
    "        rho * (dv_vel_dt + (u_vel * dv_vel_dx + v_vel * dv_vel_dy + w_vel * dv_vel_dz))\n",
    "        + dp_dy - mu * (dv_vel_dx_dx + dv_vel_dy_dy + dv_vel_dz_dz)\n",
    "    )\n",
    "    momentum_z = (\n",
    "        rho * (dw_vel_dt + (u_vel * dw_vel_dx + v_vel * dw_vel_dy + w_vel * dw_vel_dz))\n",
    "        + dp_dz - mu * (dw_vel_dx_dx + dw_vel_dy_dy + dw_vel_dz_dz)\n",
    "    )\n",
    "    continuity = du_vel_dx + dv_vel_dy + dw_vel_dz\n",
    "\n",
    "    return [momentum_x, momentum_y, momentum_z, continuity]\n"
   ]
  },
  {
   "cell_type": "markdown",
   "id": "7827b37aac032ab8",
   "metadata": {},
   "source": [
    "Define the initial and boundary conditions for the problem:"
   ]
  },
  {
   "cell_type": "code",
   "execution_count": 6,
   "id": "30611c1e29ef58b8",
   "metadata": {
    "ExecuteTime": {
     "end_time": "2024-12-17T13:35:42.059708Z",
     "start_time": "2024-12-17T13:35:42.050288Z"
    }
   },
   "outputs": [],
   "source": [
    "\n",
    "@bst.compile.jit(static_argnums=1)\n",
    "def icbc_cond_func(x, include_p: bool = False):\n",
    "    x = {k: v.mantissa for k, v in x.items()}\n",
    "\n",
    "    u_ = (\n",
    "        -a\n",
    "        * (u.math.exp(a * x['x']) * u.math.sin(a * x['y'] + d * x['z'])\n",
    "           + u.math.exp(a * x['z']) * u.math.cos(a * x['x'] + d * x['y']))\n",
    "        * u.math.exp(-(d ** 2) * x['t'])\n",
    "    )\n",
    "    v = (\n",
    "        -a\n",
    "        * (u.math.exp(a * x['y']) * u.math.sin(a * x['z'] + d * x['x'])\n",
    "           + u.math.exp(a * x['x']) * u.math.cos(a * x['y'] + d * x['z']))\n",
    "        * u.math.exp(-(d ** 2) * x['t'])\n",
    "    )\n",
    "    w = (\n",
    "        -a\n",
    "        * (u.math.exp(a * x['z']) * u.math.sin(a * x['x'] + d * x['y'])\n",
    "           + u.math.exp(a * x['y']) * u.math.cos(a * x['z'] + d * x['x']))\n",
    "        * u.math.exp(-(d ** 2) * x['t'])\n",
    "    )\n",
    "    p = (\n",
    "        -0.5\n",
    "        * a ** 2\n",
    "        * (\n",
    "            u.math.exp(2 * a * x['x'])\n",
    "            + u.math.exp(2 * a * x['y'])\n",
    "            + u.math.exp(2 * a * x['z'])\n",
    "            + 2\n",
    "            * u.math.sin(a * x['x'] + d * x['y'])\n",
    "            * u.math.cos(a * x['z'] + d * x['x'])\n",
    "            * u.math.exp(a * (x['y'] + x['z']))\n",
    "            + 2\n",
    "            * u.math.sin(a * x['y'] + d * x['z'])\n",
    "            * u.math.cos(a * x['x'] + d * x['y'])\n",
    "            * u.math.exp(a * (x['z'] + x['x']))\n",
    "            + 2\n",
    "            * u.math.sin(a * x['z'] + d * x['x'])\n",
    "            * u.math.cos(a * x['y'] + d * x['z'])\n",
    "            * u.math.exp(a * (x['x'] + x['y']))\n",
    "        )\n",
    "        * u.math.exp(-2 * d ** 2 * x['t'])\n",
    "    )\n",
    "\n",
    "    r = {'u_vel': u_ * unit_of_speed,\n",
    "         'v_vel': v * unit_of_speed,\n",
    "         'w_vel': w * unit_of_speed}\n",
    "    if include_p:\n",
    "        r['p'] = p * unit_of_pressure\n",
    "    return r\n",
    "\n",
    "\n",
    "bc = deepxde.icbc.DirichletBC(icbc_cond_func)\n",
    "ic = deepxde.icbc.IC(icbc_cond_func)"
   ]
  },
  {
   "cell_type": "markdown",
   "id": "d5663ac4d9b3ae59",
   "metadata": {},
   "source": [
    "Define the problem as a TimePDE object:"
   ]
  },
  {
   "cell_type": "code",
   "execution_count": 7,
   "id": "3f1612bbaeb56010",
   "metadata": {
    "ExecuteTime": {
     "end_time": "2024-12-17T13:35:43.072978Z",
     "start_time": "2024-12-17T13:35:42.121586Z"
    }
   },
   "outputs": [
    {
     "name": "stdout",
     "output_type": "stream",
     "text": [
      "Warning: 283 points required, but 343 points sampled.\n",
      "Warning: 10000 points required, but 12348 points sampled.\n"
     ]
    }
   ],
   "source": [
    "problem = deepxde.problem.TimePDE(\n",
    "    spatio_temporal_domain,\n",
    "    pde,\n",
    "    [bc, ic],\n",
    "    net,\n",
    "    num_domain=50000,\n",
    "    num_boundary=5000,\n",
    "    num_initial=5000,\n",
    "    num_test=10000,\n",
    ")"
   ]
  },
  {
   "cell_type": "markdown",
   "id": "f472396f52fcb8a5",
   "metadata": {},
   "source": [
    "Train the model using the problem data:"
   ]
  },
  {
   "cell_type": "code",
   "execution_count": null,
   "id": "71f97c909111b8e1",
   "metadata": {
    "ExecuteTime": {
     "start_time": "2024-12-17T13:35:43.085506Z"
    },
    "jupyter": {
     "is_executing": true
    }
   },
   "outputs": [
    {
     "name": "stdout",
     "output_type": "stream",
     "text": [
      "Compiling trainer...\n",
      "'compile' took 0.051972 s\n",
      "\n",
      "Training trainer...\n",
      "\n",
      "Step      Train loss                                                                  Test loss                                                                   Test metric \n",
      "0         [12.974215 * (kilogram / klitre * (meter / second) / second) ** 2,          [14.700201 * (kilogram / klitre * (meter / second) / second) ** 2,          []          \n",
      "           24.321922 * (kilogram / klitre * (meter / second) / second) ** 2,           29.931065 * (kilogram / klitre * (meter / second) / second) ** 2,                      \n",
      "           13.350433 * (kilogram / klitre * (meter / second) / second) ** 2,           17.096483 * (kilogram / klitre * (meter / second) / second) ** 2,                      \n",
      "           1.2527013 * becquerel2,                                                     1.3801537 * becquerel2,                                                                \n",
      "           {'ibc0': {'u_vel': 2.5884202 * meter / second,                              {'ibc0': {'u_vel': 2.5884202 * meter / second,                                         \n",
      "                     'v_vel': 1.5904388 * meter / second,                                        'v_vel': 1.5904388 * meter / second,                                         \n",
      "                     'w_vel': 1.7298671 * meter / second}},                                      'w_vel': 1.7298671 * meter / second}},                                       \n",
      "           {'ibc1': {'u_vel': 4.1043954 * meter / second,                              {'ibc1': {'u_vel': 4.1043954 * meter / second,                                         \n",
      "                     'v_vel': 2.08325 * meter / second,                                          'v_vel': 2.08325 * meter / second,                                           \n",
      "                     'w_vel': 2.6199307 * meter / second}}]                                      'w_vel': 2.6199307 * meter / second}}]                                       \n"
     ]
    }
   ],
   "source": [
    "model = deepxde.Trainer(problem)\n",
    "\n",
    "model.compile(bst.optim.Adam(1e-3)).train(iterations=30000)\n",
    "model.compile(bst.optim.LBFGS(1e-3)).train(5000, display_every=200)"
   ]
  },
  {
   "cell_type": "markdown",
   "id": "becbb0f8333344e9",
   "metadata": {},
   "source": [
    "Verify the results by plotting the loss history and the predicted solution:"
   ]
  },
  {
   "cell_type": "code",
   "execution_count": null,
   "id": "ca417f07847d6081",
   "metadata": {},
   "outputs": [],
   "source": [
    "x, y, z = np.meshgrid(np.linspace(-1, 1, 10), np.linspace(-1, 1, 10), np.linspace(-1, 1, 10))\n",
    "t_0 = np.zeros(1000)\n",
    "t_1 = np.ones(1000)\n",
    "X_0 = dict(\n",
    "    x=np.ravel(x) * unit_of_space,\n",
    "    y=np.ravel(y) * unit_of_space,\n",
    "    z=np.ravel(z) * unit_of_space,\n",
    "    t=t_0 * unit_of_t\n",
    ")\n",
    "X_1 = dict(\n",
    "    x=np.ravel(x) * unit_of_space,\n",
    "    y=np.ravel(y) * unit_of_space,\n",
    "    z=np.ravel(z) * unit_of_space,\n",
    "    t=t_1 * unit_of_t\n",
    ")\n",
    "output_0 = model.predict(X_0)\n",
    "output_1 = model.predict(X_1)\n",
    "\n",
    "out_exact_0 = icbc_cond_func(X_0, True)\n",
    "out_exact_1 = icbc_cond_func(X_1, True)\n",
    "\n",
    "f_0 = pde(X_0, output_0)\n",
    "f_1 = pde(X_1, output_1)\n",
    "residual_0 = jax.tree.map(lambda x: np.mean(np.absolute(x)), f_0)\n",
    "residual_1 = jax.tree.map(lambda x: np.mean(np.absolute(x)), f_1)\n",
    "\n",
    "print(\"Accuracy at t = 0:\")\n",
    "print(\"Mean residual:\", residual_0)\n",
    "print(\"L2 relative error:\", deepxde.metrics.l2_relative_error(output_0, out_exact_0))\n",
    "print(\"\\n\")\n",
    "print(\"Accuracy at t = 1:\")\n",
    "print(\"Mean residual:\", residual_1)\n",
    "print(\"L2 relative error:\", deepxde.metrics.l2_relative_error(output_1, out_exact_1))\n"
   ]
  }
 ],
 "metadata": {
  "kernelspec": {
   "display_name": "Python 3",
   "language": "python",
   "name": "python3"
  },
  "language_info": {
   "codemirror_mode": {
    "name": "ipython",
    "version": 2
   },
   "file_extension": ".py",
   "mimetype": "text/x-python",
   "name": "python",
   "nbconvert_exporter": "python",
   "pygments_lexer": "ipython2",
   "version": "2.7.6"
  }
 },
 "nbformat": 4,
 "nbformat_minor": 5
}
