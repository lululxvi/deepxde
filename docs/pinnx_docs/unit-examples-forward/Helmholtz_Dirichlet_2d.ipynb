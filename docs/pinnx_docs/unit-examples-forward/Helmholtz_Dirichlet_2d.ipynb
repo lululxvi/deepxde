{
 "cells": [
  {
   "cell_type": "markdown",
   "metadata": {},
   "source": [
    "# Helmholtz equation over a 2D square domain\n",
    "\n",
    "## Problem setup\n",
    "For a wave number $k_0 = 2\\pi n$ with $n = 2$, we will solve a Helmholtz equation:\n",
    "\n",
    "$$\n",
    "- u_{xx}-u_{yy} - k_0^2 u = f, \\qquad  \\Omega = [0,1]^2\n",
    "$$\n",
    "\n",
    "with the Dirichlet boundary conditions\n",
    "\n",
    "$$\n",
    "u(x,y)=0, \\qquad (x,y)\\in \\partial \\Omega\n",
    "$$\n",
    "\n",
    "and a source term $f(x,y) = k_0^2 \\sin(k_0 x)\\sin(k_0 y)$.\n",
    "\n",
    "Remark that the exact solution reads:\n",
    "$$\n",
    "u(x,y)= \\sin(k_0 x)\\sin(k_0 y)\n",
    "$$\n",
    "\n",
    "\n",
    "## Dimensional Analysis\n",
    "\n",
    "### **Assigning Physical Units:**\n",
    "\n",
    "To perform dimensional analysis, we will assign physical units to each variable and parameter in the equation. We'll ensure that both sides of the Helmholtz equation have consistent dimensions.\n",
    "\n",
    "#### **Variables and Parameters:**\n",
    "\n",
    "| **Variable/Parameter** | **Symbol** | **Physical Quantity**             | **Unit (SI)**                                                                   | **Dimension**            |\n",
    "|------------------------|------------|-----------------------------------|---------------------------------------------------------------------------------|--------------------------|\n",
    "| **Field Variable**     | $ u $    | Scalar field (e.g., displacement, pressure) | **Dimensionless** or [U] [Depends on Physical Context]                          | $[U]$                 |\n",
    "| **Spatial Coordinate** | $ x, y $  | Position in space                  | meters (m)                                                                      | Length $[L]$           |\n",
    "| **Wave Number**        | $ k_0 $  | Spatial frequency                  | inverse meters (1/m)                                                            | $[L]^{-1}$             |\n",
    "| **Source Term**        | $ f $    | External forcing or source        | Depends on $ u $'s units (e.g., if $ u $ is dimensionless, f has units of 1/m²) | $[U][L]^{-2}$          |\n",
    "\n",
    "> **Note:** The units of $ u $ can vary based on the physical context of the problem. However, based on the exact solution provided, $ u(x,y) = \\sin(k_0 x) \\sin(k_0 y) $, it suggests that $ u $ is **dimensionless**. Therefore, for this analysis, we'll assume $ u $ is dimensionless.\n",
    "\n",
    "#### **Detailed Assignments:**\n",
    "\n",
    "1. **Field Variable ($ u $):**\n",
    "   - **Physical Quantity:** Scalar field (e.g., displacement, pressure)\n",
    "   - **Unit:** **Dimensionless**\n",
    "   - **Dimension:** $[1]$\n",
    "   \n",
    "2. **Spatial Coordinates ($ x, y $):**\n",
    "   - **Physical Quantity:** Position in space\n",
    "   - **Unit:** meters (m)\n",
    "   - **Dimension:** Length $[L]$\n",
    "   \n",
    "3. **Wave Number ($ k_0 $):**\n",
    "   - **Physical Quantity:** Spatial frequency\n",
    "   - **Unit:** inverse meters (1/m)\n",
    "   - **Dimension:** $[L]^{-1}$\n",
    "   \n",
    "4. **Source Term ($ f $):**\n",
    "   - **Physical Quantity:** External forcing or source\n",
    "   - **Unit:** inverse meters squared (1/m²)\n",
    "   - **Dimension:** $[L]^{-2}$\n",
    "   \n",
    "#### **Dimensional Consistency Check:**\n",
    "\n",
    "To ensure the Helmholtz equation is dimensionally consistent, both sides of the equation must have the same dimensions.\n",
    "\n",
    "1. **Left Side ($ -u_{xx} - u_{yy} - k_0^2 u $):**\n",
    "   - $ u_{xx} = \\frac{\\partial^2 u}{\\partial x^2} $: \n",
    "     - Dimension: $\\frac{[U]}{[L]^2}$ \n",
    "     - Since $ u $ is dimensionless: $[U] = 1$, so $ u_{xx} $ has dimension $[L]^{-2}$.\n",
    "     \n",
    "   - $ u_{yy} = \\frac{\\partial^2 u}{\\partial y^2} $:\n",
    "     - Dimension: Same as $ u_{xx} $, i.e., $[L]^{-2}$.\n",
    "     \n",
    "   - $ k_0^2 u $:\n",
    "     - Dimension: $[k_0]^2 [U] = [L]^{-2} \\times 1 = [L]^{-2}$.\n",
    "     \n",
    "   - **Combined Left Side:** Each term has dimension $[L]^{-2}$, ensuring consistency.\n",
    "   \n",
    "2. **Right Side ($ f $):**\n",
    "   - Dimension: $[L]^{-2}$.\n",
    "   \n",
    "   - **Conclusion:** Both sides of the equation have the same dimension $[L]^{-2}$, confirming dimensional consistency.\n",
    "\n",
    "### **Summary of Physical Units:**\n",
    "\n",
    "| **Symbol** | **Physical Quantity**                     | **Unit (SI)**       | **Dimension**            |\n",
    "|------------|-------------------------------------------|---------------------|--------------------------|\n",
    "| $ u $    | Scalar field (dimensionless)              | Dimensionless       | $[1]$                  |\n",
    "| $ x, y $  | Spatial coordinates                       | meters (m)          | Length $[L]$           |\n",
    "| $ k_0 $  | Wave number                               | inverse meters (1/m)| $[L]^{-1}$             |\n",
    "| $ f $    | Source term                               | inverse meters squared (1/m²)| $[L]^{-2}$          |\n",
    "\n",
    "### **Boundary Conditions Units:**\n",
    "\n",
    "1. **Dirichlet Boundary Conditions ($ u(x,y) = 0 $):**\n",
    "   - **Units:** Same as $ u $, which is **dimensionless**.\n",
    "   \n",
    "2. **Exact Solution ($ u(x,y) = \\sin(k_0 x) \\sin(k_0 y) $):**\n",
    "   - **Units:** Dimensionless, consistent with $ u $'s units.\n",
    "\n",
    "### **Conclusion:**\n",
    "\n",
    "All variables and parameters in the Helmholtz equation have been assigned consistent physical units, ensuring the dimensional integrity of the equation and its boundary conditions. Specifically:\n",
    "\n",
    "- **$ u $** is dimensionless.\n",
    "- **$ x $** and **$ y $** are measured in meters (m).\n",
    "- **$ k_0 $** has units of inverse meters (1/m).\n",
    "- **$ f $** has units of inverse meters squared (1/m²).\n",
    "\n",
    "This dimensional assignment ensures that the Helmholtz equation is dimensionally consistent and the boundary conditions are appropriately defined.\n",
    "\n",
    "\n",
    "\n",
    "\n"
   ]
  },
  {
   "cell_type": "markdown",
   "metadata": {},
   "source": [
    "## Code Implementation\n",
    "\n",
    "First, import the necessary libraries and modules for the problem setup and solution:"
   ]
  },
  {
   "cell_type": "code",
   "execution_count": 2,
   "metadata": {
    "ExecuteTime": {
     "end_time": "2024-12-17T14:18:10.846957Z",
     "start_time": "2024-12-17T14:18:07.057723Z"
    }
   },
   "outputs": [],
   "source": [
    "import brainstate as bst\n",
    "import brainunit as u\n",
    "import numpy as np\n",
    "\n",
    "import deepxde.experimental as deepxde"
   ]
  },
  {
   "cell_type": "markdown",
   "metadata": {},
   "source": [
    "Define the physical units and parameters for the Helmholtz equation:"
   ]
  },
  {
   "cell_type": "code",
   "execution_count": 3,
   "metadata": {
    "ExecuteTime": {
     "end_time": "2024-12-17T14:18:10.855991Z",
     "start_time": "2024-12-17T14:18:10.850982Z"
    }
   },
   "outputs": [],
   "source": [
    "unit_of_u = u.UNITLESS\n",
    "unit_of_x = u.meter\n",
    "unit_of_y = u.meter\n",
    "unit_of_k0 = 1 / unit_of_x\n",
    "unit_of_f = 1 / u.meter ** 2\n",
    "\n",
    "# General parameters\n",
    "n = 2\n",
    "precision_train = 10\n",
    "precision_test = 30\n",
    "hard_constraint = True  # True or False\n",
    "weights = 100  # if hard_constraint == False\n",
    "iterations = 5000\n",
    "parameters = [1e-3, 3, 150]\n",
    "\n",
    "learning_rate, num_dense_layers, num_dense_nodes = parameters\n",
    "\n"
   ]
  },
  {
   "cell_type": "markdown",
   "metadata": {},
   "source": [
    "Define the PDE function for the Helmholtz equation:"
   ]
  },
  {
   "cell_type": "code",
   "execution_count": 4,
   "metadata": {
    "ExecuteTime": {
     "end_time": "2024-12-17T14:18:10.873024Z",
     "start_time": "2024-12-17T14:18:10.867395Z"
    }
   },
   "outputs": [],
   "source": [
    "geom = deepxde.geometry.Rectangle([0, 0], [1, 1]).to_dict_point(x=unit_of_x, y=unit_of_y)\n",
    "k0 = 2 * np.pi * n\n",
    "wave_len = 1 / n\n",
    "\n",
    "hx_train = wave_len / precision_train\n",
    "nx_train = int(1 / hx_train)\n",
    "\n",
    "hx_test = wave_len / precision_test\n",
    "nx_test = int(1 / hx_test)\n",
    "\n",
    "\n",
    "def pde(x, y):\n",
    "    hessian = net.hessian(x)\n",
    "\n",
    "    dy_xx = hessian[\"y\"][\"x\"][\"x\"]\n",
    "    dy_yy = hessian[\"y\"][\"y\"][\"y\"]\n",
    "\n",
    "    f = k0 ** 2 * u.math.sin(k0 * x['x'] / unit_of_x) * u.math.sin(k0 * x['y'] / unit_of_y)\n",
    "    return -dy_xx - dy_yy - (k0 * unit_of_k0) ** 2 * y['y'] - f * unit_of_f\n"
   ]
  },
  {
   "cell_type": "markdown",
   "metadata": {},
   "source": [
    "Define the boundary conditions for the Helmholtz equation:"
   ]
  },
  {
   "cell_type": "code",
   "execution_count": 5,
   "metadata": {
    "ExecuteTime": {
     "end_time": "2024-12-17T14:18:11.385027Z",
     "start_time": "2024-12-17T14:18:10.883839Z"
    }
   },
   "outputs": [],
   "source": [
    "\n",
    "\n",
    "if hard_constraint:\n",
    "    bc = []\n",
    "else:\n",
    "    bc = deepxde.icbc.DirichletBC(lambda x: {'y': 0 * unit_of_u})\n",
    "\n",
    "net = deepxde.nn.Model(\n",
    "    deepxde.nn.DictToArray(x=unit_of_x, y=unit_of_y),\n",
    "    deepxde.nn.FNN([2] + [num_dense_nodes] * num_dense_layers + [1],\n",
    "                   u.math.sin,\n",
    "                   bst.init.KaimingUniform()),\n",
    "    deepxde.nn.ArrayToDict(y=unit_of_u),\n",
    ")\n",
    "\n",
    "if hard_constraint:\n",
    "    def transform(x, y):\n",
    "        x = deepxde.utils.array_to_dict(x, [\"x\", \"y\"], keep_dim=True)\n",
    "        res = x['x'] * (1 - x['x']) * x['y'] * (1 - x['y'])\n",
    "        return res * y\n",
    "\n",
    "\n",
    "    net.approx.apply_output_transform(transform)"
   ]
  },
  {
   "cell_type": "markdown",
   "metadata": {},
   "source": [
    "Define the problem and train the model to solve the Helmholtz equation:"
   ]
  },
  {
   "cell_type": "code",
   "execution_count": 6,
   "metadata": {
    "ExecuteTime": {
     "end_time": "2024-12-17T14:18:11.811162Z",
     "start_time": "2024-12-17T14:18:11.398719Z"
    }
   },
   "outputs": [],
   "source": [
    "problem = deepxde.problem.PDE(\n",
    "    geom,\n",
    "    pde,\n",
    "    bc,\n",
    "    net,\n",
    "    num_domain=nx_train ** 2,\n",
    "    num_boundary=4 * nx_train,\n",
    "    solution=lambda x: {'y': u.math.sin(k0 * x['x'] / unit_of_x) * u.math.sin(k0 * x['y'] / unit_of_y) * unit_of_u},\n",
    "    num_test=nx_test ** 2,\n",
    "    loss_weights=None if hard_constraint else [1, weights],\n",
    ")"
   ]
  },
  {
   "cell_type": "markdown",
   "metadata": {},
   "source": [
    "Train the model using the Adam optimizer and the specified learning rate:"
   ]
  },
  {
   "cell_type": "code",
   "execution_count": null,
   "metadata": {
    "ExecuteTime": {
     "end_time": "2024-12-17T14:19:14.913372200Z",
     "start_time": "2024-12-17T14:18:11.822636Z"
    },
    "jupyter": {
     "is_executing": true
    }
   },
   "outputs": [
    {
     "name": "stdout",
     "output_type": "stream",
     "text": [
      "Compiling trainer...\n",
      "'compile' took 0.059387 s\n",
      "\n",
      "Training trainer...\n",
      "\n",
      "Step      Train loss                         Test loss                        Test metric                                       \n",
      "0         [5213.1675 * metre ** -4]          [6450.17 * metre ** -4]          [{'y': Array(1.0007389, dtype=float32)}]          \n",
      "1000      [115.11537 * metre ** -4]          [164.17776 * metre ** -4]        [{'y': Array(0.50004345, dtype=float32)}]         \n"
     ]
    }
   ],
   "source": [
    "trainer = deepxde.Trainer(problem)\n",
    "trainer.compile(bst.optim.Adam(learning_rate), metrics=[\"l2 relative error\"]).train(iterations=iterations)\n",
    "trainer.saveplot(issave=True, isplot=True)\n"
   ]
  }
 ],
 "metadata": {
  "kernelspec": {
   "display_name": "pinnx",
   "language": "python",
   "name": "python3"
  },
  "language_info": {
   "name": "python",
   "version": "3.10.15"
  }
 },
 "nbformat": 4,
 "nbformat_minor": 2
}
