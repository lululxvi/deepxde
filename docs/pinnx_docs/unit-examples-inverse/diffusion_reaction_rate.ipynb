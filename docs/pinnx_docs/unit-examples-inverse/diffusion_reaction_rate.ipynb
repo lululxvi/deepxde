{
 "cells": [
  {
   "cell_type": "markdown",
   "id": "2fe892610f90c7e5",
   "metadata": {},
   "source": [
    "# Inferring the space-dependent reaction rate in a diffusion-reaction system\n",
    "\n",
    "\n",
    "## The problem we need to solve\n",
    "\n",
    "\n",
    "We consider a one-dimensional diffusion-reaction system in which the reaction rate $k(x)$ is a space-dependent function:\n",
    "\n",
    "$$\\lambda\\frac{\\partial^2u}{\\partial x^2}-k(x)u=f,\\quad x\\in[0,1],$$\n",
    "\n",
    "where $\\lambda=0.01$ is the diffusion coefficient, $u$ is the solute concentration, and $f=\\sin(2\\pi x)$ is the source term.\n",
    "The objective is to infer $k(x)$ given measurements on $u.$ The exact unknown reaction rate is\n",
    "\n",
    "$$k(x)=0.1+\\exp\\left[-0.5\\frac{(x-0.5)^2}{0.15^2}\\right].$$\n",
    "\n",
    "In addition, the condition $u(x)=0$ is imposed at $x=0$ and 1.\n",
    "\n",
    "\n",
    "## Dimensional analysis\n",
    "\n",
    "Below is a dimensional analysis for each variable and parameter in the given one-dimensional diffusion-reaction equation:\n",
    "\n",
    "**Governing equation:**\n",
    "$$\n",
    "\\lambda \\frac{\\partial^2 u}{\\partial x^2} - k(x)u = f, \\quad x \\in [0,1].\n",
    "$$\n",
    "\n",
    "**Physical meanings and typical dimensions:**\n",
    "\n",
    "1. **Spatial coordinate, $ x $**  \n",
    "   - Typically, a spatial coordinate has the dimension of length:\n",
    "\n",
    "     $$\n",
    "     [x] = L.\n",
    "     $$\n",
    "\n",
    "2. **Solute concentration, $ u(x) $**  \n",
    "   - Concentration is commonly expressed as mass per unit volume (assuming a mass-based concentration):  \n",
    "\n",
    "     $$\n",
    "     [u] = M / L^3.\n",
    "     $$\n",
    "\n",
    "3. **Diffusion coefficient, $ \\lambda $**  \n",
    "   - A diffusion coefficient typically has dimensions of length squared per time:  \n",
    "\n",
    "     $$\n",
    "     [\\lambda] = L^2 / T.\n",
    "     $$\n",
    "\n",
    "4. **Reaction rate, $ k(x) $**  \n",
    "   - Consider the term $ k(x)u $. This must have the same dimension as $\\lambda \\frac{\\partial^2 u}{\\partial x^2}$.  \n",
    "   - The Laplacian term $\\frac{\\partial^2 u}{\\partial x^2}$ has dimension $(M/L^3) / L^2 = M / (L^5)$.  \n",
    "   - Multiplying by $\\lambda = L^2/T$ gives $(L^2/T)*(M/L^5) = M/(T L^3)$.  \n",
    "   - Therefore, $k(x)u$ must also have dimension $M/(T L^3)$. Given $ [u] = M/L^3 $, it follows:  \n",
    "\n",
    "     $$\n",
    "     [k(x)] [u] = M/(T L^3) \\implies [k(x)] (M/L^3) = M/(T L^3) \\implies [k(x)] = 1/T.\n",
    "     $$\n",
    "\n",
    "   Thus, the reaction rate $k(x)$ has units of inverse time, which makes sense physically.\n",
    "\n",
    "5. **Source term, $ f $**  \n",
    "   - The source term $ f $ appears on the right-hand side of the equation and must have the same dimension as the left-hand side terms. We have already found that $\\lambda \\frac{\\partial^2 u}{\\partial x^2}$ and $k(x)u$ both have dimensions $ M/(T L^3) $. Hence:\n",
    "   \n",
    "     $$\n",
    "     [f] = M/(T L^3).\n",
    "     $$\n",
    "\n",
    "**Summary of Dimensions:**\n",
    "- $[x] = L$\n",
    "- $[u] = M/L^3$\n",
    "- $[\\lambda] = L^2/T$\n",
    "- $[k(x)] = 1/T$\n",
    "- $[f] = M/(T L^3)$\n",
    "\n",
    "These dimensions are consistent with a diffusion-reaction system where:\n",
    "- $u$ is a concentration (mass per volume),\n",
    "- $\\lambda$ is a diffusion coefficient (length²/time),\n",
    "- $k(x)$ is a reaction rate (1/time),\n",
    "- $f$ is a source term with the dimension of a generation/consumption rate of mass per volume per time.\n",
    "\n",
    "## Implementation\n",
    "\n",
    "\n",
    "First, import the necessary libraries:\n",
    "\n"
   ]
  },
  {
   "cell_type": "code",
   "execution_count": 1,
   "id": "initial_id",
   "metadata": {
    "ExecuteTime": {
     "end_time": "2024-12-17T10:11:19.069774Z",
     "start_time": "2024-12-17T10:11:16.062094Z"
    },
    "collapsed": true
   },
   "outputs": [],
   "source": [
    "import brainstate as bst\n",
    "import brainunit as u\n",
    "import matplotlib.pyplot as plt\n",
    "import numpy as np\n",
    "from scipy.integrate import solve_bvp\n",
    "\n",
    "import deepxde.experimental as deepxde\n"
   ]
  },
  {
   "cell_type": "markdown",
   "id": "33d07fdf14aee443",
   "metadata": {},
   "source": [
    "Define the units for the variables and parameters:"
   ]
  },
  {
   "cell_type": "code",
   "execution_count": 2,
   "id": "b8b8a351a1ba24c6",
   "metadata": {
    "ExecuteTime": {
     "end_time": "2024-12-17T10:11:19.106898Z",
     "start_time": "2024-12-17T10:11:19.079977Z"
    }
   },
   "outputs": [],
   "source": [
    "unit_of_x = u.meter\n",
    "unit_of_u = u.mole / u.meter ** 3\n",
    "unit_of_f = u.mole / (u.second * u.meter ** 3)\n",
    "\n",
    "l = 0.01 * unit_of_x ** 2 / u.second\n"
   ]
  },
  {
   "cell_type": "markdown",
   "id": "98c91402924a57ba",
   "metadata": {},
   "source": [
    "Define the solution for the solute concentration:"
   ]
  },
  {
   "cell_type": "code",
   "execution_count": 3,
   "id": "30f6bd1a201542af",
   "metadata": {
    "ExecuteTime": {
     "end_time": "2024-12-17T10:11:19.241025Z",
     "start_time": "2024-12-17T10:11:19.160967Z"
    }
   },
   "outputs": [],
   "source": [
    "\n",
    "def k(x):\n",
    "    return 0.1 + np.exp(-0.5 * (x - 0.5) ** 2 / 0.15 ** 2)\n",
    "\n",
    "\n",
    "def fun(x, y):\n",
    "    return np.vstack((y[1], (k(x) * y[0] + np.sin(2 * np.pi * x)) / l.mantissa))\n",
    "\n",
    "\n",
    "def bc(ya, yb):\n",
    "    return np.array([ya[0], yb[0]])\n",
    "\n",
    "\n",
    "num = 100\n",
    "xvals = np.linspace(0, 1, num)\n",
    "y = np.zeros((2, xvals.size))\n",
    "res = solve_bvp(fun, bc, xvals, y)\n"
   ]
  },
  {
   "cell_type": "markdown",
   "id": "4d1b117970b778b7",
   "metadata": {},
   "source": [
    "Define the PDE for the neural network model:"
   ]
  },
  {
   "cell_type": "code",
   "execution_count": 4,
   "id": "833da26094bea1de",
   "metadata": {
    "ExecuteTime": {
     "end_time": "2024-12-17T10:11:19.304593Z",
     "start_time": "2024-12-17T10:11:19.298448Z"
    }
   },
   "outputs": [],
   "source": [
    "geom = deepxde.geometry.Interval(0, 1).to_dict_point(x=unit_of_x)\n",
    "\n",
    "\n",
    "def pde(x, y):\n",
    "    hessian = net.hessian(x, y='u')\n",
    "    du_xx = hessian[\"u\"][\"x\"][\"x\"]\n",
    "    f = u.math.sin(2 * np.pi * x['x'].mantissa) * unit_of_f\n",
    "    return l * du_xx - y['u'] * y['k'] - f"
   ]
  },
  {
   "cell_type": "markdown",
   "id": "ad654d3c6c4a245e",
   "metadata": {},
   "source": [
    "Define the neural network model:"
   ]
  },
  {
   "cell_type": "code",
   "execution_count": 5,
   "id": "339f530f4a5cb4f9",
   "metadata": {
    "ExecuteTime": {
     "end_time": "2024-12-17T10:11:19.703511Z",
     "start_time": "2024-12-17T10:11:19.324536Z"
    }
   },
   "outputs": [],
   "source": [
    "net = deepxde.nn.Model(\n",
    "    deepxde.nn.DictToArray(x=unit_of_x),\n",
    "    deepxde.nn.PFNN([1, [20, 20], [20, 20], 2], \"tanh\", bst.init.KaimingUniform()),\n",
    "    deepxde.nn.ArrayToDict(u=unit_of_u, k=1 / u.second),\n",
    ")"
   ]
  },
  {
   "cell_type": "markdown",
   "id": "8df5ae51e9be3f9a",
   "metadata": {},
   "source": [
    "Define the training data:"
   ]
  },
  {
   "cell_type": "code",
   "execution_count": 6,
   "id": "e967dfbb9d3ed8",
   "metadata": {
    "ExecuteTime": {
     "end_time": "2024-12-17T10:11:19.720423Z",
     "start_time": "2024-12-17T10:11:19.716718Z"
    }
   },
   "outputs": [],
   "source": [
    "def gen_traindata():\n",
    "    x = {'x': xvals * unit_of_x}\n",
    "    y = {'u': res.sol(xvals)[0] * unit_of_u}\n",
    "    return x, y\n",
    "\n",
    "\n",
    "ob_x, ob_u = gen_traindata()\n",
    "observe_u = deepxde.icbc.PointSetBC(ob_x, ob_u)"
   ]
  },
  {
   "cell_type": "markdown",
   "id": "6f9dee3f6a33fa88",
   "metadata": {},
   "source": [
    "Define the boundary conditions:"
   ]
  },
  {
   "cell_type": "code",
   "execution_count": 7,
   "id": "b90cf6294b4d76",
   "metadata": {
    "ExecuteTime": {
     "end_time": "2024-12-17T10:11:19.786147Z",
     "start_time": "2024-12-17T10:11:19.783554Z"
    }
   },
   "outputs": [],
   "source": "bc = deepxde.icbc.DirichletBC(lambda x: {'u': 0 * unit_of_u})\n"
  },
  {
   "cell_type": "markdown",
   "id": "90a1b4482cb27968",
   "metadata": {},
   "source": [
    "Define the PDE problem:"
   ]
  },
  {
   "cell_type": "code",
   "execution_count": 8,
   "id": "70aab77e50447359",
   "metadata": {
    "ExecuteTime": {
     "end_time": "2024-12-17T10:11:20.046406Z",
     "start_time": "2024-12-17T10:11:19.816754Z"
    }
   },
   "outputs": [],
   "source": [
    "problem = deepxde.problem.PDE(\n",
    "    geom,\n",
    "    pde,\n",
    "    constraints=[bc, observe_u],\n",
    "    approximator=net,\n",
    "    num_domain=50,\n",
    "    num_boundary=8,\n",
    "    train_distribution=\"uniform\",\n",
    "    num_test=1000,\n",
    ")"
   ]
  },
  {
   "cell_type": "markdown",
   "id": "7a3c42e5568fcc06",
   "metadata": {},
   "source": [
    "Train the model:"
   ]
  },
  {
   "cell_type": "code",
   "execution_count": 9,
   "id": "1918ddc952ba62c2",
   "metadata": {
    "ExecuteTime": {
     "end_time": "2024-12-17T10:11:28.606169Z",
     "start_time": "2024-12-17T10:11:20.073429Z"
    }
   },
   "outputs": [
    {
     "name": "stdout",
     "output_type": "stream",
     "text": [
      "Compiling trainer...\n",
      "'compile' took 0.046593 s\n",
      "\n",
      "Training trainer...\n",
      "\n",
      "Step      Train loss                                                                         Test loss                                                                          Test metric \n",
      "0         [0.42841953 * 10.0^0 * (meter2 / second * (mmolar / meter) / meter) ** 2,          [0.48738545 * 10.0^0 * (meter2 / second * (mmolar / meter) / meter) ** 2,          []          \n",
      "           {'ibc0': {'u': 0.04377487 * mmolar}},                                              {'ibc0': {'u': 0.04377487 * mmolar}},                                                         \n",
      "           {'ibc1': {'u': 0.76479465 * mmolar}}]                                              {'ibc1': {'u': 0.76479465 * mmolar}}]                                                         \n",
      "1000      [0.00161212 * 10.0^0 * (meter2 / second * (mmolar / meter) / meter) ** 2,          [0.00137106 * 10.0^0 * (meter2 / second * (mmolar / meter) / meter) ** 2,          []          \n",
      "           {'ibc0': {'u': 0.00100709 * mmolar}},                                              {'ibc0': {'u': 0.00100709 * mmolar}},                                                         \n",
      "           {'ibc1': {'u': 0.0077876 * mmolar}}]                                               {'ibc1': {'u': 0.0077876 * mmolar}}]                                                          \n",
      "2000      [0.00086259 * 10.0^0 * (meter2 / second * (mmolar / meter) / meter) ** 2,          [0.00051533 * 10.0^0 * (meter2 / second * (mmolar / meter) / meter) ** 2,          []          \n",
      "           {'ibc0': {'u': 4.4753404e-05 * mmolar}},                                           {'ibc0': {'u': 4.4753404e-05 * mmolar}},                                                      \n",
      "           {'ibc1': {'u': 0.00127289 * mmolar}}]                                              {'ibc1': {'u': 0.00127289 * mmolar}}]                                                         \n",
      "3000      [0.00062482 * 10.0^0 * (meter2 / second * (mmolar / meter) / meter) ** 2,          [0.00038163 * 10.0^0 * (meter2 / second * (mmolar / meter) / meter) ** 2,          []          \n",
      "           {'ibc0': {'u': 1.1394843e-05 * mmolar}},                                           {'ibc0': {'u': 1.1394843e-05 * mmolar}},                                                      \n",
      "           {'ibc1': {'u': 0.00050347 * mmolar}}]                                              {'ibc1': {'u': 0.00050347 * mmolar}}]                                                         \n",
      "4000      [0.00029539 * 10.0^0 * (meter2 / second * (mmolar / meter) / meter) ** 2,          [0.00020541 * 10.0^0 * (meter2 / second * (mmolar / meter) / meter) ** 2,          []          \n",
      "           {'ibc0': {'u': 1.0836469e-06 * mmolar}},                                           {'ibc0': {'u': 1.0836469e-06 * mmolar}},                                                      \n",
      "           {'ibc1': {'u': 0.0001564 * mmolar}}]                                               {'ibc1': {'u': 0.0001564 * mmolar}}]                                                          \n",
      "5000      [0.00010554 * 10.0^0 * (meter2 / second * (mmolar / meter) / meter) ** 2,          [8.63514e-05 * 10.0^0 * (meter2 / second * (mmolar / meter) / meter) ** 2,         []          \n",
      "           {'ibc0': {'u': 5.5338234e-08 * mmolar}},                                           {'ibc0': {'u': 5.5338234e-08 * mmolar}},                                                      \n",
      "           {'ibc1': {'u': 4.1387873e-05 * mmolar}}]                                           {'ibc1': {'u': 4.1387873e-05 * mmolar}}]                                                      \n",
      "6000      [3.261345e-05 * 10.0^0 * (meter2 / second * (mmolar / meter) / meter) ** 2,        [3.0046363e-05 * 10.0^0 * (meter2 / second * (mmolar / meter) / meter) ** 2,       []          \n",
      "           {'ibc0': {'u': 4.189261e-08 * mmolar}},                                            {'ibc0': {'u': 4.189261e-08 * mmolar}},                                                       \n",
      "           {'ibc1': {'u': 1.1832751e-05 * mmolar}}]                                           {'ibc1': {'u': 1.1832751e-05 * mmolar}}]                                                      \n",
      "7000      [1.0917592e-05 * 10.0^0 * (meter2 / second * (mmolar / meter) / meter) ** 2,       [1.06402085e-05 * 10.0^0 * (meter2 / second * (mmolar / meter) / meter) ** 2,      []          \n",
      "           {'ibc0': {'u': 6.6463612e-09 * mmolar}},                                           {'ibc0': {'u': 6.6463612e-09 * mmolar}},                                                      \n",
      "           {'ibc1': {'u': 3.1595891e-06 * mmolar}}]                                           {'ibc1': {'u': 3.1595891e-06 * mmolar}}]                                                      \n",
      "8000      [5.7016923e-06 * 10.0^0 * (meter2 / second * (mmolar / meter) / meter) ** 2,       [5.549621e-06 * 10.0^0 * (meter2 / second * (mmolar / meter) / meter) ** 2,        []          \n",
      "           {'ibc0': {'u': 1.4118614e-06 * mmolar}},                                           {'ibc0': {'u': 1.4118614e-06 * mmolar}},                                                      \n",
      "           {'ibc1': {'u': 2.000358e-06 * mmolar}}]                                            {'ibc1': {'u': 2.000358e-06 * mmolar}}]                                                       \n",
      "9000      [3.0069625e-06 * 10.0^0 * (meter2 / second * (mmolar / meter) / meter) ** 2,       [2.992862e-06 * 10.0^0 * (meter2 / second * (mmolar / meter) / meter) ** 2,        []          \n",
      "           {'ibc0': {'u': 6.584769e-09 * mmolar}},                                            {'ibc0': {'u': 6.584769e-09 * mmolar}},                                                       \n",
      "           {'ibc1': {'u': 5.5307254e-07 * mmolar}}]                                           {'ibc1': {'u': 5.5307254e-07 * mmolar}}]                                                      \n",
      "10000     [2.0530574e-06 * 10.0^0 * (meter2 / second * (mmolar / meter) / meter) ** 2,       [2.0282348e-06 * 10.0^0 * (meter2 / second * (mmolar / meter) / meter) ** 2,       []          \n",
      "           {'ibc0': {'u': 1.3601655e-08 * mmolar}},                                           {'ibc0': {'u': 1.3601655e-08 * mmolar}},                                                      \n",
      "           {'ibc1': {'u': 5.196718e-07 * mmolar}}]                                            {'ibc1': {'u': 5.196718e-07 * mmolar}}]                                                       \n",
      "11000     [1.5368364e-06 * 10.0^0 * (meter2 / second * (mmolar / meter) / meter) ** 2,       [1.4977886e-06 * 10.0^0 * (meter2 / second * (mmolar / meter) / meter) ** 2,       []          \n",
      "           {'ibc0': {'u': 8.276815e-08 * mmolar}},                                            {'ibc0': {'u': 8.276815e-08 * mmolar}},                                                       \n",
      "           {'ibc1': {'u': 5.301843e-07 * mmolar}}]                                            {'ibc1': {'u': 5.301843e-07 * mmolar}}]                                                       \n",
      "12000     [1.1885431e-06 * 10.0^0 * (meter2 / second * (mmolar / meter) / meter) ** 2,       [1.1730367e-06 * 10.0^0 * (meter2 / second * (mmolar / meter) / meter) ** 2,       []          \n",
      "           {'ibc0': {'u': 1.5201218e-08 * mmolar}},                                           {'ibc0': {'u': 1.5201218e-08 * mmolar}},                                                      \n",
      "           {'ibc1': {'u': 5.8795325e-07 * mmolar}}]                                           {'ibc1': {'u': 5.8795325e-07 * mmolar}}]                                                      \n",
      "13000     [9.736607e-07 * 10.0^0 * (meter2 / second * (mmolar / meter) / meter) ** 2,        [9.640654e-07 * 10.0^0 * (meter2 / second * (mmolar / meter) / meter) ** 2,        []          \n",
      "           {'ibc0': {'u': 1.3303917e-08 * mmolar}},                                           {'ibc0': {'u': 1.3303917e-08 * mmolar}},                                                      \n",
      "           {'ibc1': {'u': 6.254742e-07 * mmolar}}]                                            {'ibc1': {'u': 6.254742e-07 * mmolar}}]                                                       \n",
      "14000     [8.2432285e-07 * 10.0^0 * (meter2 / second * (mmolar / meter) / meter) ** 2,       [8.188007e-07 * 10.0^0 * (meter2 / second * (mmolar / meter) / meter) ** 2,        []          \n",
      "           {'ibc0': {'u': 1.3247805e-08 * mmolar}},                                           {'ibc0': {'u': 1.3247805e-08 * mmolar}},                                                      \n",
      "           {'ibc1': {'u': 6.5696383e-07 * mmolar}}]                                           {'ibc1': {'u': 6.5696383e-07 * mmolar}}]                                                      \n",
      "15000     [6.123539e-06 * 10.0^0 * (meter2 / second * (mmolar / meter) / meter) ** 2,        [6.9687558e-06 * 10.0^0 * (meter2 / second * (mmolar / meter) / meter) ** 2,       []          \n",
      "           {'ibc0': {'u': 8.313561e-06 * mmolar}},                                            {'ibc0': {'u': 8.313561e-06 * mmolar}},                                                       \n",
      "           {'ibc1': {'u': 8.073111e-06 * mmolar}}]                                            {'ibc1': {'u': 8.073111e-06 * mmolar}}]                                                       \n",
      "16000     [6.50423e-07 * 10.0^0 * (meter2 / second * (mmolar / meter) / meter) ** 2,         [6.7078685e-07 * 10.0^0 * (meter2 / second * (mmolar / meter) / meter) ** 2,       []          \n",
      "           {'ibc0': {'u': 8.236504e-08 * mmolar}},                                            {'ibc0': {'u': 8.236504e-08 * mmolar}},                                                       \n",
      "           {'ibc1': {'u': 8.032191e-07 * mmolar}}]                                            {'ibc1': {'u': 8.032191e-07 * mmolar}}]                                                       \n",
      "17000     [5.692829e-07 * 10.0^0 * (meter2 / second * (mmolar / meter) / meter) ** 2,        [5.758455e-07 * 10.0^0 * (meter2 / second * (mmolar / meter) / meter) ** 2,        []          \n",
      "           {'ibc0': {'u': 1.7372976e-09 * mmolar}},                                           {'ibc0': {'u': 1.7372976e-09 * mmolar}},                                                      \n",
      "           {'ibc1': {'u': 7.4665815e-07 * mmolar}}]                                           {'ibc1': {'u': 7.4665815e-07 * mmolar}}]                                                      \n",
      "18000     [5.349737e-07 * 10.0^0 * (meter2 / second * (mmolar / meter) / meter) ** 2,        [5.5260807e-07 * 10.0^0 * (meter2 / second * (mmolar / meter) / meter) ** 2,       []          \n",
      "           {'ibc0': {'u': 4.742464e-09 * mmolar}},                                            {'ibc0': {'u': 4.742464e-09 * mmolar}},                                                       \n",
      "           {'ibc1': {'u': 8.103133e-07 * mmolar}}]                                            {'ibc1': {'u': 8.103133e-07 * mmolar}}]                                                       \n",
      "19000     [4.710544e-07 * 10.0^0 * (meter2 / second * (mmolar / meter) / meter) ** 2,        [4.7181476e-07 * 10.0^0 * (meter2 / second * (mmolar / meter) / meter) ** 2,       []          \n",
      "           {'ibc0': {'u': 1.8345938e-08 * mmolar}},                                           {'ibc0': {'u': 1.8345938e-08 * mmolar}},                                                      \n",
      "           {'ibc1': {'u': 7.362613e-07 * mmolar}}]                                            {'ibc1': {'u': 7.362613e-07 * mmolar}}]                                                       \n",
      "20000     [4.3603515e-07 * 10.0^0 * (meter2 / second * (mmolar / meter) / meter) ** 2,       [4.3779076e-07 * 10.0^0 * (meter2 / second * (mmolar / meter) / meter) ** 2,       []          \n",
      "           {'ibc0': {'u': 1.614938e-08 * mmolar}},                                            {'ibc0': {'u': 1.614938e-08 * mmolar}},                                                       \n",
      "           {'ibc1': {'u': 7.4421376e-07 * mmolar}}]                                           {'ibc1': {'u': 7.4421376e-07 * mmolar}}]                                                      \n",
      "\n",
      "Best trainer at step 20000:\n",
      "  train loss: 1.20e-06\n",
      "  test loss: 1.20e-06\n",
      "  test metric: []\n",
      "\n",
      "'train' took 8.478413 s\n",
      "\n"
     ]
    },
    {
     "data": {
      "text/plain": [
       "<pinnx.Trainer at 0x1b2eee86c10>"
      ]
     },
     "execution_count": 9,
     "metadata": {},
     "output_type": "execute_result"
    }
   ],
   "source": [
    "model = deepxde.Trainer(problem)\n",
    "model.compile(bst.optim.Adam(1e-3)).train(iterations=20000)\n"
   ]
  },
  {
   "cell_type": "markdown",
   "id": "1b26a4e8563104c1",
   "metadata": {},
   "source": [
    "Verify the results:"
   ]
  },
  {
   "cell_type": "code",
   "execution_count": 10,
   "id": "362b2bf854d85584",
   "metadata": {
    "ExecuteTime": {
     "end_time": "2024-12-17T10:11:28.904291Z",
     "start_time": "2024-12-17T10:11:28.670596Z"
    }
   },
   "outputs": [
    {
     "name": "stdout",
     "output_type": "stream",
     "text": [
      "l2 relative error for k: 0.030291751\n"
     ]
    },
    {
     "data": {
      "image/png": "[encoded data removed]",
      "text/plain": [
       "<Figure size 640x480 with 1 Axes>"
      ]
     },
     "metadata": {},
     "output_type": "display_data"
    },
    {
     "name": "stdout",
     "output_type": "stream",
     "text": [
      "l2 relative error for u: 0.00095011527\n"
     ]
    },
    {
     "data": {
      "image/png": "[encoded data removed]",
      "text/plain": [
       "<Figure size 640x480 with 1 Axes>"
      ]
     },
     "metadata": {},
     "output_type": "display_data"
    }
   ],
   "source": [
    "x = geom.uniform_points(500)\n",
    "yhat = model.predict(x)\n",
    "uhat, khat = yhat['u'].mantissa, yhat['k'].mantissa\n",
    "x = x['x'].mantissa\n",
    "\n",
    "ktrue = k(x)\n",
    "print(\"l2 relative error for k: \" + str(deepxde.metrics.l2_relative_error(khat, ktrue)))\n",
    "\n",
    "plt.figure()\n",
    "plt.plot(x, ktrue, \"-\", label=\"k_true\")\n",
    "plt.plot(x, khat, \"--\", label=\"k_NN\")\n",
    "plt.legend()\n",
    "plt.show()\n",
    "\n",
    "utrue = res.sol(x)[0]\n",
    "print(\"l2 relative error for u: \" + str(deepxde.metrics.l2_relative_error(uhat, utrue)))\n",
    "\n",
    "plt.figure()\n",
    "plt.plot(x, utrue, \"-\", label=\"u_true\")\n",
    "plt.plot(x, uhat, \"--\", label=\"u_NN\")\n",
    "plt.legend()\n",
    "plt.show()"
   ]
  }
 ],
 "metadata": {
  "kernelspec": {
   "display_name": "Python 3",
   "language": "python",
   "name": "python3"
  },
  "language_info": {
   "codemirror_mode": {
    "name": "ipython",
    "version": 2
   },
   "file_extension": ".py",
   "mimetype": "text/x-python",
   "name": "python",
   "nbconvert_exporter": "python",
   "pygments_lexer": "ipython2",
   "version": "2.7.6"
  }
 },
 "nbformat": 4,
 "nbformat_minor": 5
}
